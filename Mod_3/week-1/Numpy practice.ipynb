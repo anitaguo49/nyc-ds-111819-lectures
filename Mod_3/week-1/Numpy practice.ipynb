{
 "cells": [
  {
   "cell_type": "markdown",
   "metadata": {},
   "source": [
    "### Let's use numpy to answer a probability question by creating a simulation!\n",
    "\n",
    "1. We have a box that contains 40 red balls and 60 white balls. What is the probability to pick a red ball 3 times in a row with replacement (calculated theoretically)?\n",
    "\n",
    "2. Now let's answer the same question using a simulation that runs 1\\_000, 10\\_000, and 100\\_000 times and counts how many of those times we draw 3 red balls in a row. Hint: use np.random.rand()\n",
    "\n",
    "3. [Optional] Create a similar simulation that runs without replacement."
   ]
  },
  {
   "cell_type": "code",
   "execution_count": 10,
   "metadata": {},
   "outputs": [
    {
     "data": {
      "text/plain": [
       "0.064"
      ]
     },
     "execution_count": 10,
     "metadata": {},
     "output_type": "execute_result"
    }
   ],
   "source": [
    "# 1.\n",
    "# p of red ball = 40/100 = 4/10 = 2/5\n",
    "# p of white ball = 60/100 = 6/10 = 3/5\n",
    "# pick red ball 3 times in a row with replacement\n",
    "2/5 * 2/5 * 2/5"
   ]
  },
  {
   "cell_type": "code",
   "execution_count": 12,
   "metadata": {},
   "outputs": [],
   "source": [
    "import numpy as np\n",
    "import random\n"
   ]
  },
  {
   "cell_type": "code",
   "execution_count": 14,
   "metadata": {},
   "outputs": [
    {
     "data": {
      "text/plain": [
       "{'urn': {'red': 40, 'white': 60}}"
      ]
     },
     "execution_count": 14,
     "metadata": {},
     "output_type": "execute_result"
    }
   ],
   "source": [
    "sink = {'urn':{'red':40,'white':60}}"
   ]
  },
  {
   "cell_type": "code",
   "execution_count": null,
   "metadata": {},
   "outputs": [],
   "source": [
    "#2 simulate with replacement\n",
    "counter = 0\n",
    "three_reds = 0\n",
    "num_saumpels = 10000\n",
    "\n",
    "for i in range(num_samples):\n",
    "    prob = np.random.rand()\n",
    "    if prob <="
   ]
  },
  {
   "cell_type": "code",
   "execution_count": null,
   "metadata": {},
   "outputs": [],
   "source": [
    "#3 simulate without replacement\n",
    "\n"
   ]
  },
  {
   "cell_type": "code",
   "execution_count": 15,
   "metadata": {},
   "outputs": [
    {
     "name": "stdout",
     "output_type": "stream",
     "text": [
      "6381 0.06381\n"
     ]
    }
   ],
   "source": [
    "#Anastasia's answer\n",
    "num_sims = 100000\n",
    "num_success = 0\n",
    "\n",
    "def simulation():\n",
    "    Success = False\n",
    "    a = np.random.rand()\n",
    "    b = np.random.rand()\n",
    "    c = np.random.rand()\n",
    "    if a < 0.4 and b < 0.4 and c < 0.4:\n",
    "        Success = True\n",
    "        #print('Success!')\n",
    "    return Success\n",
    "    \n",
    "    \n",
    "for num in range(num_sims):\n",
    "    if simulation():\n",
    "        num_success += 1\n",
    "        \n",
    "print(num_success, num_success/num_sims)"
   ]
  },
  {
   "cell_type": "code",
   "execution_count": 16,
   "metadata": {},
   "outputs": [],
   "source": [
    "#Andrews Answer\n",
    "def experiment (runs):\n",
    "    count = 0\n",
    "    for i in range(runs):\n",
    "        n=3\n",
    "        p=.4\n",
    "        if np.random.binomial(n, p) == 3:\n",
    "            count +=1\n",
    "    return count  "
   ]
  },
  {
   "cell_type": "code",
   "execution_count": null,
   "metadata": {},
   "outputs": [],
   "source": []
  },
  {
   "cell_type": "code",
   "execution_count": null,
   "metadata": {},
   "outputs": [],
   "source": []
  }
 ],
 "metadata": {
  "kernelspec": {
   "display_name": "Python 3",
   "language": "python",
   "name": "python3"
  },
  "language_info": {
   "codemirror_mode": {
    "name": "ipython",
    "version": 3
   },
   "file_extension": ".py",
   "mimetype": "text/x-python",
   "name": "python",
   "nbconvert_exporter": "python",
   "pygments_lexer": "ipython3",
   "version": "3.7.4"
  }
 },
 "nbformat": 4,
 "nbformat_minor": 2
}
