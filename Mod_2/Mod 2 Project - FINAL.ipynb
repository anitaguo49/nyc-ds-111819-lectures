{
 "cells": [
  {
   "cell_type": "code",
   "execution_count": null,
   "metadata": {},
   "outputs": [],
   "source": [
    "## Connect to DB server on AWS\n",
    "import mysql.connector \n",
    "import config\n",
    "\n",
    "cnx = mysql.connector.connect(\n",
    "    host = config.host,\n",
    "    user = config.user,\n",
    "    passwd = config.passwd\n",
    ")\n",
    "cursor = cnx.cursor()\n",
    "headers = {\"Accept-Language\": \"en-US, en;q=0.5\"}\n"
   ]
  },
  {
   "cell_type": "code",
   "execution_count": null,
   "metadata": {},
   "outputs": [],
   "source": [
    "import pandas as pd\n",
    "import numpy as np\n",
    "import matplotlib.pyplot as plt\n",
    "import json\n",
    "import itertools"
   ]
  },
  {
   "cell_type": "code",
   "execution_count": null,
   "metadata": {},
   "outputs": [],
   "source": [
    "# #Create new DB\n",
    "# cursor.execute(\"CREATE DATABASE Movie_Project\")"
   ]
  },
  {
   "cell_type": "code",
   "execution_count": null,
   "metadata": {},
   "outputs": [],
   "source": [
    "cnx.database = 'Movie_Project'"
   ]
  },
  {
   "cell_type": "code",
   "execution_count": null,
   "metadata": {},
   "outputs": [],
   "source": [
    "import requests\n",
    "\n",
    "url = \"https://www.imdb.com/list/ls022596827/\"\n",
    "page = requests.get(url)\n",
    "page.content"
   ]
  },
  {
   "cell_type": "code",
   "execution_count": null,
   "metadata": {},
   "outputs": [],
   "source": [
    "from bs4 import BeautifulSoup as bs\n",
    "soup = bs(page.content, 'html.parser')\n",
    "content = soup.find_all(class_='lister-item-content')\n",
    "content[20].find_all('a')[0].string"
   ]
  },
  {
   "cell_type": "markdown",
   "metadata": {},
   "source": [
    "# Get movie name"
   ]
  },
  {
   "cell_type": "code",
   "execution_count": null,
   "metadata": {},
   "outputs": [],
   "source": [
    "name_list = []\n",
    "for i in range(len(content)):\n",
    "    try:\n",
    "        get_text = content[i].find_all('a')[0].string\n",
    "    except:\n",
    "        get_text = 'no name found'\n",
    "    name_list.append(get_text)\n",
    "name_list\n"
   ]
  },
  {
   "cell_type": "code",
   "execution_count": null,
   "metadata": {},
   "outputs": [],
   "source": [
    "len(name_list)"
   ]
  },
  {
   "cell_type": "markdown",
   "metadata": {},
   "source": [
    "# Get movie genre"
   ]
  },
  {
   "cell_type": "code",
   "execution_count": null,
   "metadata": {
    "scrolled": true
   },
   "outputs": [],
   "source": [
    "#get genre\n",
    "genre_list = []\n",
    "for i in range(len(content)):\n",
    "    try:\n",
    "        genre = content[i].find_all(class_='genre')[0].get_text().strip('\\n').strip(' ')\n",
    "        genre_list.append(genre)\n",
    "    except:\n",
    "        genre = \"No genre found\"\n",
    "genre_list"
   ]
  },
  {
   "cell_type": "markdown",
   "metadata": {},
   "source": [
    "# Get movie ratings"
   ]
  },
  {
   "cell_type": "code",
   "execution_count": null,
   "metadata": {},
   "outputs": [],
   "source": [
    "#get ratings\n",
    "rating_list = []\n",
    "for i in range(len(content)):\n",
    "    try:\n",
    "        rating = content[i].find_all(class_='ipl-rating-star__rating')[0].string \n",
    "    except:\n",
    "        rating = 'no rating found'\n",
    "    rating_list.append(rating)\n",
    "len(rating_list)\n"
   ]
  },
  {
   "cell_type": "markdown",
   "metadata": {},
   "source": [
    "# Get movie year"
   ]
  },
  {
   "cell_type": "code",
   "execution_count": null,
   "metadata": {},
   "outputs": [],
   "source": [
    "#get year\n",
    "year_list = []\n",
    "for i in range(len(content)):\n",
    "    try:\n",
    "        year = content[8].find_all(class_='lister-item-year text-muted unbold')[0].string.strip('()')\n",
    "        year1 = year.strip('I').strip(')').strip(' ').strip('(')\n",
    "    except:\n",
    "        year1 = 'no year'\n",
    "    year_list.append(year1)\n",
    "year_list"
   ]
  },
  {
   "cell_type": "code",
   "execution_count": null,
   "metadata": {},
   "outputs": [],
   "source": [
    "year = content[8].find_all(class_='lister-item-year text-muted unbold')[0].string.strip('()')\n",
    "year.strip('I').strip(')').strip(' ').strip('()')"
   ]
  },
  {
   "cell_type": "code",
   "execution_count": null,
   "metadata": {},
   "outputs": [],
   "source": [
    "content[0].find_all(class_='lister-item-year text-muted unbold')[0].string.strip('()')\n"
   ]
  },
  {
   "cell_type": "markdown",
   "metadata": {},
   "source": [
    "# Get movie rated"
   ]
  },
  {
   "cell_type": "code",
   "execution_count": null,
   "metadata": {},
   "outputs": [],
   "source": [
    "#get r rated...\n",
    "type_list = []\n",
    "for i in content:\n",
    "    try:\n",
    "        type1 = i.find_all(class_='certificate')[0].string\n",
    "    except:\n",
    "        type1 = 'no rating'\n",
    "    type_list.append(type1)\n",
    "type_list"
   ]
  },
  {
   "cell_type": "code",
   "execution_count": null,
   "metadata": {},
   "outputs": [],
   "source": [
    "soup.find_all('strong')[0].string"
   ]
  },
  {
   "cell_type": "markdown",
   "metadata": {},
   "source": [
    "# Create DataFrame"
   ]
  },
  {
   "cell_type": "code",
   "execution_count": null,
   "metadata": {},
   "outputs": [],
   "source": [
    "d = {'Movie':name_list, 'Genre': genre_list, 'Release Year': year_list, \"IMDB Rating\": rating_list, 'Rated': type_list}\n",
    "d"
   ]
  },
  {
   "cell_type": "code",
   "execution_count": null,
   "metadata": {},
   "outputs": [],
   "source": [
    "df2019 = pd.DataFrame(d)\n",
    "df2019"
   ]
  },
  {
   "cell_type": "code",
   "execution_count": null,
   "metadata": {},
   "outputs": [],
   "source": [
    "df2019"
   ]
  },
  {
   "cell_type": "markdown",
   "metadata": {},
   "source": [
    "# Create tables"
   ]
  },
  {
   "cell_type": "code",
   "execution_count": null,
   "metadata": {},
   "outputs": [],
   "source": [
    "# #create a table for Movie_info\n",
    "# create_table_movie_info_2019 = \"\"\"\n",
    "#     CREATE TABLE Movie_info_2019 (\n",
    "#     Movie varchar(255) PRIMARY KEY,\n",
    "#     Genre varchar(255),\n",
    "#     Release_Year INTEGER(255),\n",
    "#     IMDB_Rating FLOAT,\n",
    "#     Rated varchar(255)\n",
    "#     );\n",
    "# \"\"\"\n",
    "\n",
    "# #create a table for Movie_info\n",
    "# create_table_movie_info_2018 = \"\"\"\n",
    "#     CREATE TABLE Movie_info_2018 (\n",
    "#     Movie varchar(255) PRIMARY KEY,\n",
    "#     Genre varchar(255),\n",
    "#     Release_Year INTEGER(255),\n",
    "#     IMDB_Rating FLOAT,\n",
    "#     Rated varchar(255)\n",
    "#     );\n",
    "# \"\"\"\n",
    "\n",
    "# #create a table for Movie_info\n",
    "# create_table_movie_info_2017 = \"\"\"\n",
    "#     CREATE TABLE Movie_info_2017 (\n",
    "#     Movie varchar(255) PRIMARY KEY,\n",
    "#     Genre varchar(255),\n",
    "#     Release_Year INTEGER(255),\n",
    "#     IMDB_Rating FLOAT,\n",
    "#     Rated varchar(255)\n",
    "#     );\n",
    "# \"\"\"\n",
    "\n",
    "# #create a table for Movie_info\n",
    "# create_table_movie_info_2016 = \"\"\"\n",
    "#     CREATE TABLE Movie_info_2016 (\n",
    "#     Movie varchar(255) PRIMARY KEY,\n",
    "#     Genre varchar(255),\n",
    "#     Release_Year INTEGER(255),\n",
    "#     IMDB_Rating FLOAT,\n",
    "#     Rated varchar(255)\n",
    "#     );\n",
    "# \"\"\"\n",
    "\n",
    "# #create a table for Movie_info\n",
    "# create_table_movie_info_2015 = \"\"\"\n",
    "#     CREATE TABLE Movie_info_2015 (\n",
    "#     Movie varchar(255) PRIMARY KEY,\n",
    "#     Genre varchar(255),\n",
    "#     Release_Year INTEGER(255),\n",
    "#     IMDB_Rating FLOAT,\n",
    "#     Rated varchar(255)\n",
    "#     );\n",
    "# \"\"\"\n",
    "\n",
    "# #create a table for Movie_info\n",
    "# create_table_movie_info_2014 = \"\"\"\n",
    "#     CREATE TABLE Movie_info_2014 (\n",
    "#     Movie varchar(255) PRIMARY KEY,\n",
    "#     Genre varchar(255),\n",
    "#     Release_Year INTEGER(255),\n",
    "#     IMDB_Rating FLOAT,\n",
    "#     Rated varchar(255)\n",
    "#     );\n",
    "# \"\"\"\n",
    "\n",
    "# #create a table for Movie_info\n",
    "# create_table_movie_info_2013 = \"\"\"\n",
    "#     CREATE TABLE Movie_info_2013 (\n",
    "#     Movie varchar(255) PRIMARY KEY,\n",
    "#     Genre varchar(255),\n",
    "#     Release_Year INTEGER(255),\n",
    "#     IMDB_Rating FLOAT,\n",
    "#     Rated varchar(255)\n",
    "#     );\n",
    "# \"\"\"\n",
    "\n",
    "# cursor.execute(create_table_movie_info_2019)\n",
    "# # # cursor.execute(create_table_movie_info_2018)\n",
    "# # # # cursor.execute(create_table_movie_info_2017)\n",
    "# # cursor.execute(create_table_movie_info_2016)\n",
    "# # # # cursor.execute(create_table_movie_info_2015)\n",
    "# # # # cursor.execute(create_table_movie_info_2014)\n",
    "# # # # cursor.execute(create_table_movie_info_2013)\n",
    "\n"
   ]
  },
  {
   "cell_type": "code",
   "execution_count": null,
   "metadata": {},
   "outputs": [],
   "source": [
    "cnx.database = 'Movie_Project'"
   ]
  },
  {
   "cell_type": "markdown",
   "metadata": {},
   "source": [
    "# 2019 movies\n",
    "steps:\n",
    "1. create DataFrame \n",
    "2. merge and parse into a list of tuple\n",
    "3. insert data to sql function "
   ]
  },
  {
   "cell_type": "code",
   "execution_count": null,
   "metadata": {},
   "outputs": [],
   "source": [
    "def merge(list1, list2, list3, list4, list5):  \n",
    "    merged_list = [(list1[i], list2[i], list3[i], list4[i], list5[i]) for i in range(0, len(list1))]\n",
    "    return merged_list \n",
    "\n",
    "parsed_data = merge(name_list, genre_list, year_list, rating_list, type_list)\n",
    "parsed_data"
   ]
  },
  {
   "cell_type": "code",
   "execution_count": null,
   "metadata": {},
   "outputs": [],
   "source": [
    "def insert_data(cnx, cursor, parsed_data):\n",
    "    insert_Movie_Project = \"\"\"INSERT INTO Movie_info_2019 (Movie, Genre, Release_Year, IMDB_Rating, Rated) VALUES (%s, %s, %s, %s, %s);\"\"\"\n",
    "    cursor.executemany(insert_Movie_Project, parsed_data)\n",
    "    cnx.commit()\n",
    "    return\n",
    "insert_data(cnx, cursor, parsed_data)"
   ]
  },
  {
   "cell_type": "markdown",
   "metadata": {},
   "source": [
    "# 2018 movies\n",
    "steps:\n",
    "1. create DataFrame \n",
    "2. merge and parse into a list of tuple\n",
    "3. insert data to sql "
   ]
  },
  {
   "cell_type": "code",
   "execution_count": null,
   "metadata": {},
   "outputs": [],
   "source": [
    "def get_DF(url):\n",
    "    page = requests.get(url)\n",
    "    page.content\n",
    "\n",
    "    from bs4 import BeautifulSoup as bs\n",
    "    soup = bs(page.content, 'html.parser')\n",
    "    content = soup.find_all(class_='lister-item-content')\n",
    "    content[20].find_all('a')[0].string\n",
    "\n",
    "    name_list = []\n",
    "    for i in range(len(content)):\n",
    "        try:\n",
    "            get_text = content[i].find_all('a')[0].string\n",
    "        except:\n",
    "            get_text = 'no name found'\n",
    "        name_list.append(get_text)\n",
    "    name_list\n",
    "\n",
    "\n",
    "    #get genre\n",
    "    genre_list = []\n",
    "    for i in range(len(content)):\n",
    "        try:\n",
    "            genre = content[i].find_all(class_='genre')[0].get_text().strip('\\n').strip(' ')\n",
    "            genre_list.append(genre)\n",
    "        except:\n",
    "            genre = \"No genre found\"\n",
    "    len(genre_list)\n",
    "\n",
    "\n",
    "    #get ratings\n",
    "    rating_list = []\n",
    "    for i in range(len(content)):\n",
    "        try:\n",
    "            rating = content[i].find_all(class_='ipl-rating-star__rating')[0].string \n",
    "        except:\n",
    "            rating = 'no rating found'\n",
    "        rating_list.append(rating)\n",
    "    len(rating_list)\n",
    "\n",
    "    \n",
    "    #get year\n",
    "    year_list = []\n",
    "    for i in range(len(content)):\n",
    "        try:\n",
    "            year = content[i].find_all(class_='lister-item-year text-muted unbold')[0].string.strip('()')\n",
    "        except:\n",
    "            year = 'no year'\n",
    "        year_list.append(year)\n",
    "    len(year_list)\n",
    "\n",
    "\n",
    "    #get r rated...\n",
    "    type_list = []\n",
    "    for i in content:\n",
    "        try:\n",
    "            type1 = i.find_all(class_='certificate')[0].string\n",
    "        except:\n",
    "            type1 = 'no rating'\n",
    "        type_list.append(type1)\n",
    "    type_list\n",
    "\n",
    "    d = {'Movie':name_list, 'Genre': genre_list, 'Release Year': year_list, \"IMDB Rating\": rating_list, 'Rated': type_list}\n",
    "    d\n",
    "\n",
    "    df = pd.DataFrame(d)\n",
    "\n",
    "    return df\n",
    "\n",
    "df2018 = get_DF(\"https://www.imdb.com/list/ls020941218/\")\n",
    "df2018\n"
   ]
  },
  {
   "cell_type": "code",
   "execution_count": null,
   "metadata": {},
   "outputs": [],
   "source": [
    "def merge(list1, list2, list3, list4, list5):  \n",
    "    merged_list_2018 = [(list1[i], list2[i], list3[i], list4[i], list5[i]) for i in range(0, len(list1))]\n",
    "    return merged_list_2018\n",
    "\n",
    "parsed_data_2018 = merge(df2018['Movie'], df2018['Genre'], df2018['Release Year'], df2018['IMDB Rating'], df2018['Rated'])\n",
    "parsed_data_2018"
   ]
  },
  {
   "cell_type": "code",
   "execution_count": null,
   "metadata": {},
   "outputs": [],
   "source": [
    "#insert 2018 movie info into SQL\n",
    "def insert_data_2018(cnx, cursor, parsed_data):\n",
    "    insert_Movie_Project = \"\"\"INSERT INTO Movie_info_2018 (Movie, Genre, Release_Year, IMDB_Rating, Rated) VALUES (%s, %s, %s, %s, %s);\"\"\"\n",
    "    cursor.executemany(insert_Movie_Project, parsed_data)\n",
    "    cnx.commit()\n",
    "    return\n",
    "insert_data_2018(cnx, cursor, parsed_data_2018)"
   ]
  },
  {
   "cell_type": "markdown",
   "metadata": {},
   "source": [
    "# 2017 movies\n",
    "steps:\n",
    "1. create DataFrame \n",
    "2. merge and parse into a list of tuple\n",
    "3. insert data to sql "
   ]
  },
  {
   "cell_type": "code",
   "execution_count": null,
   "metadata": {},
   "outputs": [],
   "source": [
    "df2017 = get_DF(\"https://www.imdb.com/list/ls058982125/\")\n",
    "df2017"
   ]
  },
  {
   "cell_type": "code",
   "execution_count": null,
   "metadata": {},
   "outputs": [],
   "source": [
    "df2017['Movie']"
   ]
  },
  {
   "cell_type": "code",
   "execution_count": null,
   "metadata": {},
   "outputs": [],
   "source": [
    "parsed_data_2017 = merge(df2017['Movie'], df2017['Genre'], df2017['Release Year'], df2017['IMDB Rating'], df2017['Rated'])\n",
    "parsed_data_2017"
   ]
  },
  {
   "cell_type": "code",
   "execution_count": null,
   "metadata": {},
   "outputs": [],
   "source": [
    "#insert 2017 movie info into SQL\n",
    "def insert_data_2017(cnx, cursor, parsed_data):\n",
    "    insert_Movie_Project = \"\"\"INSERT INTO Movie_info_2017 (Movie, Genre, Release_Year, IMDB_Rating, Rated) VALUES (%s, %s, %s, %s, %s);\"\"\"\n",
    "    cursor.executemany(insert_Movie_Project, parsed_data)\n",
    "    cnx.commit()\n",
    "    return\n",
    "insert_data_2017(cnx, cursor, parsed_data_2017)"
   ]
  },
  {
   "cell_type": "markdown",
   "metadata": {},
   "source": [
    "# 2016 movies\n",
    "steps:\n",
    "1. create DataFrame \n",
    "2. merge and parse into a list of tuple\n",
    "3. insert data to sql "
   ]
  },
  {
   "cell_type": "code",
   "execution_count": null,
   "metadata": {},
   "outputs": [],
   "source": [
    "df2016 = get_DF(\"https://www.imdb.com/list/ls058938704/\")\n",
    "df2016\n",
    "\n",
    "parsed_data_2016 = merge(df2016['Movie'], df2016['Genre'], df2016['Release Year'], df2016['IMDB Rating'], df2016['Rated'])\n",
    "parsed_data_2016\n",
    "\n",
    "#insert 2016 movie info into SQL\n",
    "def insert_data_2016(cnx, cursor, parsed_data):\n",
    "    insert_Movie_Project = \"\"\"INSERT INTO Movie_info_2016 (Movie, Genre, Release_Year, IMDB_Rating, Rated) VALUES (%s, %s, %s, %s, %s);\"\"\"\n",
    "    cursor.executemany(insert_Movie_Project, parsed_data)\n",
    "    cnx.commit()\n",
    "    return\n",
    "insert_data_2016(cnx, cursor, parsed_data_2016)"
   ]
  },
  {
   "cell_type": "markdown",
   "metadata": {},
   "source": [
    "# 2015 movies\n",
    "steps:\n",
    "1. create DataFrame \n",
    "2. merge and parse into a list of tuple\n",
    "3. insert data to sql "
   ]
  },
  {
   "cell_type": "code",
   "execution_count": null,
   "metadata": {},
   "outputs": [],
   "source": [
    "df2015 = get_DF(\"https://www.imdb.com/list/ls073809351/\")\n",
    "df2015\n",
    "\n",
    "parsed_data_2015 = merge(df2015['Movie'], df2015['Genre'], df2015['Release Year'], df2015['IMDB Rating'], df2015['Rated'])\n",
    "parsed_data_2015\n",
    "\n",
    "#insert 2015 movie info into SQL\n",
    "def insert_data_2015(cnx, cursor, parsed_data):\n",
    "    insert_Movie_Project = \"\"\"INSERT INTO Movie_info_2015 (Movie, Genre, Release_Year, IMDB_Rating, Rated) VALUES (%s, %s, %s, %s, %s);\"\"\"\n",
    "    cursor.executemany(insert_Movie_Project, parsed_data)\n",
    "    cnx.commit()\n",
    "    return\n",
    "insert_data_2015(cnx, cursor, parsed_data_2015)"
   ]
  },
  {
   "cell_type": "markdown",
   "metadata": {},
   "source": [
    "# 2014 movies"
   ]
  },
  {
   "cell_type": "code",
   "execution_count": null,
   "metadata": {},
   "outputs": [],
   "source": [
    "# steps:\n",
    "# 1. create DataFrame \n",
    "# 2. merge and parse into a list of tuple\n",
    "# 3. insert data to sql function \n",
    "\n",
    "df2014 = get_DF(\"https://www.imdb.com/list/ls059824992/\")\n",
    "df2014\n",
    "\n",
    "parsed_data_2014 = merge(df2014['Movie'], df2014['Genre'], df2014['Release Year'], df2014['IMDB Rating'], df2014['Rated'])\n",
    "parsed_data_2014\n",
    "\n",
    "#insert 2014 movie info into SQL\n",
    "def insert_data_2014(cnx, cursor, parsed_data):\n",
    "    insert_Movie_Project = \"\"\"INSERT INTO Movie_info_2014 (Movie, Genre, Release_Year, IMDB_Rating, Rated) VALUES (%s, %s, %s, %s, %s);\"\"\"\n",
    "    cursor.executemany(insert_Movie_Project, parsed_data)\n",
    "    cnx.commit()\n",
    "    return\n",
    "insert_data_2014(cnx, cursor, parsed_data_2014)"
   ]
  },
  {
   "cell_type": "code",
   "execution_count": null,
   "metadata": {},
   "outputs": [],
   "source": [
    "df2014"
   ]
  },
  {
   "cell_type": "code",
   "execution_count": null,
   "metadata": {},
   "outputs": [],
   "source": [
    "#j#ust notes:\n",
    "# g_data = soup.find_all('div',{'class':'info'})\n",
    "# g_data"
   ]
  },
  {
   "cell_type": "code",
   "execution_count": null,
   "metadata": {},
   "outputs": [],
   "source": [
    "##example\n",
    "# urls = ('div class=\"mb-movies\"',id = 'featured-browse-ad-getter')\n",
    "# url.find_all('div')\n",
    "\n"
   ]
  }
 ],
 "metadata": {
  "kernelspec": {
   "display_name": "Python 3",
   "language": "python",
   "name": "python3"
  },
  "language_info": {
   "codemirror_mode": {
    "name": "ipython",
    "version": 3
   },
   "file_extension": ".py",
   "mimetype": "text/x-python",
   "name": "python",
   "nbconvert_exporter": "python",
   "pygments_lexer": "ipython3",
   "version": "3.7.4"
  }
 },
 "nbformat": 4,
 "nbformat_minor": 2
}
