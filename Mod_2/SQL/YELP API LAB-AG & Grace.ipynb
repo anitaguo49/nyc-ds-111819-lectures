{
 "cells": [
  {
   "cell_type": "code",
   "execution_count": 1,
   "metadata": {},
   "outputs": [
    {
     "ename": "AttributeError",
     "evalue": "module 'config' has no attribute 'pw'",
     "output_type": "error",
     "traceback": [
      "\u001b[0;31m---------------------------------------------------------------------------\u001b[0m",
      "\u001b[0;31mAttributeError\u001b[0m                            Traceback (most recent call last)",
      "\u001b[0;32m<ipython-input-1-27562b18cb51>\u001b[0m in \u001b[0;36m<module>\u001b[0;34m\u001b[0m\n\u001b[1;32m      6\u001b[0m     \u001b[0mhost\u001b[0m \u001b[0;34m=\u001b[0m \u001b[0mconfig\u001b[0m\u001b[0;34m.\u001b[0m\u001b[0mhost\u001b[0m\u001b[0;34m,\u001b[0m\u001b[0;34m\u001b[0m\u001b[0;34m\u001b[0m\u001b[0m\n\u001b[1;32m      7\u001b[0m     \u001b[0muser\u001b[0m \u001b[0;34m=\u001b[0m \u001b[0mconfig\u001b[0m\u001b[0;34m.\u001b[0m\u001b[0muser\u001b[0m\u001b[0;34m,\u001b[0m\u001b[0;34m\u001b[0m\u001b[0;34m\u001b[0m\u001b[0m\n\u001b[0;32m----> 8\u001b[0;31m     \u001b[0mpasswd\u001b[0m \u001b[0;34m=\u001b[0m \u001b[0mconfig\u001b[0m\u001b[0;34m.\u001b[0m\u001b[0mpw\u001b[0m\u001b[0;34m\u001b[0m\u001b[0;34m\u001b[0m\u001b[0m\n\u001b[0m\u001b[1;32m      9\u001b[0m )\n\u001b[1;32m     10\u001b[0m \u001b[0mcursor\u001b[0m \u001b[0;34m=\u001b[0m \u001b[0mcnx\u001b[0m\u001b[0;34m.\u001b[0m\u001b[0mcursor\u001b[0m\u001b[0;34m(\u001b[0m\u001b[0;34m)\u001b[0m\u001b[0;34m\u001b[0m\u001b[0;34m\u001b[0m\u001b[0m\n",
      "\u001b[0;31mAttributeError\u001b[0m: module 'config' has no attribute 'pw'"
     ]
    }
   ],
   "source": [
    "## Connect to DB server on AWS\n",
    "import mysql.connector \n",
    "import config\n",
    "\n",
    "cnx = mysql.connector.connect(\n",
    "    host = config.host,\n",
    "    user = config.user,\n",
    "    passwd = config.pw\n",
    ")\n",
    "cursor = cnx.cursor()"
   ]
  },
  {
   "cell_type": "code",
   "execution_count": 2,
   "metadata": {},
   "outputs": [],
   "source": [
    "# ## Create new DB \n",
    "# cursor.execute(\"CREATE DATABASE yelp\")"
   ]
  },
  {
   "cell_type": "code",
   "execution_count": null,
   "metadata": {},
   "outputs": [],
   "source": [
    "# connect to database\n",
    "cnx.database = 'yelp'"
   ]
  },
  {
   "cell_type": "code",
   "execution_count": null,
   "metadata": {},
   "outputs": [],
   "source": [
    "# # Create a table for the Businesses\n",
    "# create_table_business = \"\"\"\n",
    "#     CREATE TABLE businesses (\n",
    "#     businessID varchar(255) PRIMARY KEY,\n",
    "#     name varchar(255),\n",
    "#     rating FLOAT,\n",
    "#     review_count INTEGER,\n",
    "#     price varchar(255)\n",
    "#     );\n",
    "\n",
    "# \"\"\""
   ]
  },
  {
   "cell_type": "code",
   "execution_count": null,
   "metadata": {},
   "outputs": [],
   "source": [
    "# cursor.execute(create_table_business)"
   ]
  },
  {
   "cell_type": "code",
   "execution_count": null,
   "metadata": {},
   "outputs": [],
   "source": [
    "# create_table_review = \"\"\"\n",
    "#     CREATE TABLE reviews (\n",
    "#     reviewID varchar(255) PRIMARY KEY,\n",
    "#     text_of_review varchar(255),\n",
    "#     businessID varchar(255),\n",
    "#     FOREIGN KEY (businessID)\n",
    "#         REFERENCES businesses(businessID)\n",
    "#     );\n",
    "# \"\"\""
   ]
  },
  {
   "cell_type": "code",
   "execution_count": null,
   "metadata": {},
   "outputs": [],
   "source": [
    "# cursor.execute(create_table_review)"
   ]
  },
  {
   "cell_type": "code",
   "execution_count": null,
   "metadata": {},
   "outputs": [],
   "source": [
    "import requests\n",
    "import json"
   ]
  },
  {
   "cell_type": "code",
   "execution_count": null,
   "metadata": {},
   "outputs": [],
   "source": [
    "# Write a function to make a call to the yelp API\n",
    "business_url = 'https://api.yelp.com/v3/businesses/search'"
   ]
  },
  {
   "cell_type": "code",
   "execution_count": null,
   "metadata": {},
   "outputs": [],
   "source": [
    "client_id = '2uBXLKdIeFK2UNqhwXOPRQ'\n",
    "api_key = 'x_KJc7Xc556wdB3hXmC82fjHZ4hKR_KUzdaarXmcqnvkIi_7xJDme-Q4ze0TDTsY4BMag0PbgElDq2ax6Yn0u16KgnvWtVrrMEMjkRndEJZoDnURYccdtH4QNjTpXXYx'"
   ]
  },
  {
   "cell_type": "code",
   "execution_count": null,
   "metadata": {},
   "outputs": [],
   "source": [
    "headers = {\n",
    "        'Authorization': 'Bearer {}'.format(api_key),\n",
    "    }"
   ]
  },
  {
   "cell_type": "code",
   "execution_count": null,
   "metadata": {},
   "outputs": [],
   "source": [
    "# what type of business do you want to search\n",
    "term = 'Spa'\n",
    "\n",
    "#where do you want to perform this search\n",
    "location = 'NYC'\n",
    "\n",
    "# what is your other parameter you want to search against\n",
    "status = True"
   ]
  },
  {
   "cell_type": "code",
   "execution_count": null,
   "metadata": {},
   "outputs": [],
   "source": [
    "url_params = {\n",
    "                'term': term.replace(' ', '+'),\n",
    "                'location': location.replace(' ', '+'),\n",
    "                'open_now' : status\n",
    "            }\n"
   ]
  },
  {
   "cell_type": "code",
   "execution_count": null,
   "metadata": {},
   "outputs": [],
   "source": [
    "response = requests.get(business_url, headers=headers, params=url_params)"
   ]
  },
  {
   "cell_type": "code",
   "execution_count": null,
   "metadata": {
    "scrolled": true
   },
   "outputs": [],
   "source": [
    "business_data = response.json()\n",
    "business_data"
   ]
  },
  {
   "cell_type": "code",
   "execution_count": null,
   "metadata": {},
   "outputs": [],
   "source": [
    "business_url = 'https://api.yelp.com/v3/businesses/search'\n",
    "client_id = '2uBXLKdIeFK2UNqhwXOPRQ'\n",
    "api_key = 'x_KJc7Xc556wdB3hXmC82fjHZ4hKR_KUzdaarXmcqnvkIi_7xJDme-Q4ze0TDTsY4BMag0PbgElDq2ax6Yn0u16KgnvWtVrrMEMjkRndEJZoDnURYccdtH4QNjTpXXYx'\n",
    "\n",
    "\n",
    "headers = {\n",
    "        'Authorization': 'Bearer {}'.format(api_key),\n",
    "    }\n",
    "\n",
    "\n",
    "# what type of business do you want to search\n",
    "term = 'Spa'\n",
    "\n",
    "#where do you want to perform this search\n",
    "location = 'NYC'\n",
    "\n",
    "# what is your other parameter you want to search against\n",
    "status = True\n",
    "\n",
    "\n",
    "url_params = {\n",
    "                'term': term.replace(' ', '+'),\n",
    "                'location': location.replace(' ', '+'),\n",
    "                'open_now' : status\n",
    "            }\n",
    "\n",
    "\n",
    "def yelp_call(url_params, api_key):\n",
    "    response = requests.get(business_url, headers=headers, params=url_params)\n",
    "    business_data = response.json()\n",
    "    return business_data"
   ]
  },
  {
   "cell_type": "code",
   "execution_count": null,
   "metadata": {
    "scrolled": true
   },
   "outputs": [],
   "source": [
    "# write a function to parse the API response \n",
    "# so that you can easily insert the data in to the DB\n",
    "\n",
    "def parse_data(data):\n",
    "    \n",
    "    # create a container to hold our parsed data\n",
    "    \n",
    "    parsed_data = []\n",
    "    \n",
    "    # loop through our business and parse each individual business\n",
    "    # in the loop, add each individual parsed business to our data container\n",
    "    # return the container with all of the parsed results\n",
    "    \n",
    "    for business in data['businesses']:\n",
    "        if 'price' not in business.keys():\n",
    "            business.setdefault('price', None)\n",
    "        biz_tuple = (business['id'], business['name'], business['rating'], business['review_count'], business['price'])\n",
    "        parsed_data.append(biz_tuple)\n",
    "    return parsed_data\n",
    "\n",
    "parse_data(business_data)\n"
   ]
  },
  {
   "cell_type": "code",
   "execution_count": null,
   "metadata": {},
   "outputs": [],
   "source": [
    "business_data['businesses'][0].keys()"
   ]
  },
  {
   "cell_type": "code",
   "execution_count": null,
   "metadata": {},
   "outputs": [],
   "source": [
    "# Write a function to take your parsed data and insert it into the DB\n",
    "\n",
    "insert_business = \"\"\"INSERT INTO businesses (businessID, name, rating, review_count, price) VALUES (%s, %s, %s, %s, %s);\"\"\""
   ]
  },
  {
   "cell_type": "code",
   "execution_count": null,
   "metadata": {},
   "outputs": [],
   "source": [
    "cursor.executemany(insert_business, parsed_businesses)"
   ]
  },
  {
   "cell_type": "code",
   "execution_count": null,
   "metadata": {},
   "outputs": [],
   "source": [
    "cnx.commit()"
   ]
  },
  {
   "cell_type": "code",
   "execution_count": null,
   "metadata": {},
   "outputs": [],
   "source": [
    "cursor.execute(\"\"\"DELETE FROM businesses;\"\"\")\n",
    "cnx.commit()"
   ]
  },
  {
   "cell_type": "code",
   "execution_count": null,
   "metadata": {},
   "outputs": [],
   "source": [
    "import mysql.connector \n",
    "import config\n",
    "\n",
    "cnx = mysql.connector.connect(\n",
    "    host = config.host,\n",
    "    user = config.user,\n",
    "    passwd = config.pw\n",
    ")\n",
    "cursor = cnx.cursor()\n",
    "cnx.database = 'yelp'"
   ]
  },
  {
   "cell_type": "code",
   "execution_count": null,
   "metadata": {},
   "outputs": [],
   "source": [
    "def insert_data(cnx, cursor, parsed_data):\n",
    "    insert_business = \"\"\"INSERT INTO businesses (businessID, name, rating, review_count, price) VALUES (%s, %s, %s, %s, %s);\"\"\"\n",
    "    cursor.executemany(insert_business, parsed_data)\n",
    "    cnx.commit()\n",
    "    return"
   ]
  },
  {
   "cell_type": "code",
   "execution_count": null,
   "metadata": {},
   "outputs": [],
   "source": [
    "# Write a script that combines the three functions above into a single process.\n",
    "\n",
    "# create a variable  to keep track of which result you are in. \n",
    "\n",
    "cur = 21\n",
    "\n",
    "#set up a while loop to go through and grab the result \n",
    "while cur < 1000:\n",
    "    #set the offset parameter to be where you currently are in the results \n",
    "    url_params['offset'] = cur\n",
    "    #make your API call with the new offset number\n",
    "    business_data = yelp_call(url_params, api_key)\n",
    "    \n",
    "    #after you get your results you can now use your function to parse those results\n",
    "    parsed_data = parse_data(business_data)\n",
    "    \n",
    "    # use your function to insert your parsed results into the db\n",
    "    insert_data(cnx, cursor, parsed_data)\n",
    "    #increment the counter by 50 to move on to the next results\n",
    "    cur += 20"
   ]
  },
  {
   "cell_type": "code",
   "execution_count": null,
   "metadata": {},
   "outputs": [],
   "source": []
  },
  {
   "cell_type": "code",
   "execution_count": null,
   "metadata": {},
   "outputs": [],
   "source": []
  },
  {
   "cell_type": "code",
   "execution_count": null,
   "metadata": {},
   "outputs": [],
   "source": []
  },
  {
   "cell_type": "code",
   "execution_count": null,
   "metadata": {},
   "outputs": [],
   "source": []
  },
  {
   "cell_type": "code",
   "execution_count": null,
   "metadata": {},
   "outputs": [],
   "source": []
  },
  {
   "cell_type": "code",
   "execution_count": null,
   "metadata": {},
   "outputs": [],
   "source": []
  },
  {
   "cell_type": "code",
   "execution_count": null,
   "metadata": {},
   "outputs": [],
   "source": []
  },
  {
   "cell_type": "code",
   "execution_count": null,
   "metadata": {},
   "outputs": [],
   "source": []
  },
  {
   "cell_type": "code",
   "execution_count": null,
   "metadata": {},
   "outputs": [],
   "source": []
  },
  {
   "cell_type": "code",
   "execution_count": null,
   "metadata": {},
   "outputs": [],
   "source": []
  },
  {
   "cell_type": "code",
   "execution_count": null,
   "metadata": {},
   "outputs": [],
   "source": []
  }
 ],
 "metadata": {
  "kernelspec": {
   "display_name": "Python 3",
   "language": "python",
   "name": "python3"
  },
  "language_info": {
   "codemirror_mode": {
    "name": "ipython",
    "version": 3
   },
   "file_extension": ".py",
   "mimetype": "text/x-python",
   "name": "python",
   "nbconvert_exporter": "python",
   "pygments_lexer": "ipython3",
   "version": "3.7.4"
  }
 },
 "nbformat": 4,
 "nbformat_minor": 2
}
